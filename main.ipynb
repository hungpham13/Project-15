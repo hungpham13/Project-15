{
 "cells": [
  {
   "cell_type": "markdown",
   "metadata": {},
   "source": [
    "# Project-15\n",
    "## Nội dung :\n",
    "Có N lớp 1,2,..., N cần được xếp thời khóa biểu. Mỗi lớp i có t(i) là số tiết và g(i) là giáo viên đã được phân công dạy lớp đó và s(i) là số sinh viên của lớp \n",
    "Có M phòng học 1, 2, ..., M, trong đó c(i) là số chỗ ngồi của phòng i  Trong tuần có 5 ngày (từ thứ 2 đến thứ 5), mỗi ngày chia thành 12 tiết (6 tiết sáng và 6 tiết chiều).  \n",
    "Hãy lập thời khóa biểu (xác định ngày, tiết và phòng gán cho mỗi lớp)  \n",
    "Hai lớp có chung giáo viên thì phải xếp thời khóa biểu tách rời nhau  \n",
    "Số sinh viên trong mỗi lớp phải nhỏ hơn hoặc bằng số chỗ ngồi của phòng học\n",
    "\n",
    "## Dữ liệu đầu vào :\n",
    "File data: \"data.txt\"\n",
    "> Dòng 1: ghi N và M <br>\n",
    "> Dòng i+1 (i = 1,…, N): ghi t(i), g(i) và s(i)  \n",
    "> Dòng N+2: ghi c(1), c(2), …, c(M)"
   ]
  },
  {
   "cell_type": "markdown",
   "metadata": {},
   "source": [
    "## Đặt biến\n",
    "n Lớp: l từ 0,1,2...n-1\n",
    "- T[l] Số tiết - tuple\n",
    "-\tG[l] Giáo viên dạy lớp đó - tuple\n",
    "-\tS[l] số học sinh - tuple <br>\n",
    "\n",
    "Từ G tạo ra 1 list D_G có index là giáo viên-1, element là list các lớp giáo viên đó dạy.\n",
    "\n",
    "\n",
    "m Phòng: p từ 0,1,2,..m-1\n",
    "-\tC - số chỗ trong tất cả các phòng\n",
    "-\tT’ - Số tiết trong 10 buổi của tất cả các phòng\n",
    "\n",
    "\n",
    "Phòng số p có:\n",
    "- C[p] Số chỗ trong phòng\n",
    "- T[p][b] Số tiết còn lại trong buổi thứ b\n",
    "VD:\n",
    "2 phòng 1,2\n",
    "3 buổi 1,2,3\n",
    "C = [40,30]\n",
    "T = [[6,4,5],[3,2,5]]\n",
    "=> Phòng số 1 có 40 chỗ và còn trống 4 tiết vào buổi thứ 2\n",
    "\n",
    "Biến lựa chọn - dict\n",
    "(Lớp,phòng,buổi,tiết) = 0 hoặc 1 - (6*10*n*m) biến\n",
    "Lớp 5 xếp vào phòng 1 trong buổi 2 tiết 1, Lớp 6 không xếp vào phòng 1 trong buổi 2 tiết 2 - { (5,1,2,1):1, (6,1,2,2):0 }\n",
    "### Input "
   ]
  },
  {
   "cell_type": "code",
   "execution_count": 2,
   "metadata": {},
   "outputs": [],
   "source": [
    "from ortools.sat.python import cp_model\n",
    "def input(FileName):\n",
    "    f = open(FileName,'r')\n",
    "    (n, m) =  (int(i) for i in f.readline().split())\n",
    "    T,S,G,D_G,C = [],[],[],[],[]\n",
    "    for c in range(n):\n",
    "        [so_tiet, gv, so_hs] = (int(i) for i in f.readline().split())\n",
    "        T.append(so_tiet)\n",
    "        S.append(so_hs)\n",
    "        G.append(gv)\n",
    "        if len(D_G)<gv:\n",
    "            D_G.append([c])\n",
    "        else:\n",
    "            D_G[gv-1].append(c)\n",
    "    C = [int(i) for i in f.readline().split()]\n",
    "    return (n,m,T,S,G,D_G,C)\n",
    "\n",
    "FileName= 'data.txt'\n",
    "n,m,T,S,G,D_G,C = input(FileName)\n",
    "so_buoi,so_tiet= 10,6\n",
    "all_gv = range(len(D_G))\n",
    "all_p = range(m)\n",
    "all_b = range(so_buoi)\n",
    "all_t = range(so_tiet)\n",
    "all_l = range(n)"
   ]
  },
  {
   "cell_type": "markdown",
   "metadata": {},
   "source": [
    "## Constraint 1\n",
    "Nếu lớp được xếp vào phòng, số học sinh phải nhỏ hơn số chỗ ngồi <br>\n",
    ">$\\forall l \\in \\text{ all_l}, \\forall p \\in \\text{ all_p}, \\forall b \\in \\text{all_b}, \\forall t \\in \\text{all_t}:$ <br>\n",
    ">$\\displaystyle \\text{If } S[l] > C[p]: lc(l,p,b,t) = 0 $\n"
   ]
  },
  {
   "cell_type": "markdown",
   "metadata": {},
   "source": [
    "## Constraint 2\n",
    "Trong cùng 1 thời gian:\n",
    " - 1 phòng chỉ chứa nhiều nhất 1 lớp <br>\n",
    "   >$\\displaystyle \\sum_{l \\in \\text{ all_l}} lc(l,p,b,t) \\le 1, \\forall p \\in \\text{ all_p}, \\forall b \\in \\text{all_b}, \\forall t \\in \\text{all_t}$\n",
    "\n",
    "- 1 giáo viên không được dạy 2 lớp khác nhau <br>\n",
    ">   $\\displaystyle \\sum_{l \\in \\text{ D_G[g]}} \\text{ }\\sum_{p \\in \\text{ all_p}} lc(l,p,b,t) \\le 1, \\forall g \\in \\text{all_gv},\\forall b \\in \\text{all_b}, \\forall t \\in \\text{all_t}$\n"
   ]
  },
  {
   "cell_type": "markdown",
   "metadata": {},
   "source": [
    "## Constraint 3\n",
    "Mỗi lớp:\n",
    "- Học đủ số tiết<br>\n",
    ">$\\displaystyle \\sum_{b \\in \\text{ all_b}} \\text{ }\\sum_{p \\in \\text{ all_p}} \\text{ }\\sum_{t \\in \\text{ all_t}} lc(l,p,b,t) = T[l], \\forall l \\in \\text{all_l}$\n",
    "-  Chỉ học trong 1 phòng, 1 buổi duy nhất và các tiết phải liền nhau trong buổi đó<br>\n",
    ">$\\forall l \\in \\text{ all_l}, \\forall p \\in \\text{ all_p}, \\forall b \\in \\text{all_b}:$ <br>\n",
    ">$\\displaystyle \\text{If} \\sum_{t \\in \\text{ all_t}} lc(l,p,b,t) \\neq 0: \\exists i \\in [0 \\text{ ; } 6-T[l]]: \\sum_{k=i} ^{i+T[l]-1} lc(l,p,b,k) = T[l] $"
   ]
  },
  {
   "cell_type": "markdown",
   "metadata": {},
   "source": [
    ">$\\displaystyle \\prod_{b \\in \\text{ all_b}} \\text{ } \\prod_{p \\in \\text{ all_p}} (T[l]-\\sum_{t \\in \\text{ all_t}} lc(l,p,b,t)) = 0 , \\forall l \\in \\text{all_l}$"
   ]
  },
  {
   "cell_type": "code",
   "execution_count": null,
   "metadata": {},
   "outputs": [],
   "source": []
  }
 ],
 "metadata": {
  "kernelspec": {
   "display_name": "Python 3",
   "language": "python",
   "name": "python3"
  },
  "language_info": {
   "codemirror_mode": {
    "name": "ipython",
    "version": 3
   },
   "file_extension": ".py",
   "mimetype": "text/x-python",
   "name": "python",
   "nbconvert_exporter": "python",
   "pygments_lexer": "ipython3",
   "version": "3.8.5"
  }
 },
 "nbformat": 4,
 "nbformat_minor": 4
}
