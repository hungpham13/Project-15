{
 "cells": [
  {
   "cell_type": "markdown",
   "metadata": {},
   "source": [
    "# Project-15\n",
    "## Nội dung :\n",
    "Có N lớp 1,2,..., N cần được xếp thời khóa biểu. Mỗi lớp i có t(i) là số tiết và g(i) là giáo viên đã được phân công dạy lớp đó và s(i) là số sinh viên của lớp \n",
    "Có M phòng học 1, 2, ..., M, trong đó c(i) là số chỗ ngồi của phòng i  Trong tuần có 5 ngày (từ thứ 2 đến thứ 5), mỗi ngày chia thành 12 tiết (6 tiết sáng và 6 tiết chiều).  \n",
    "Hãy lập thời khóa biểu (xác định ngày, tiết và phòng gán cho mỗi lớp)  \n",
    "Hai lớp có chung giáo viên thì phải xếp thời khóa biểu tách rời nhau  \n",
    "Số sinh viên trong mỗi lớp phải nhỏ hơn hoặc bằng số chỗ ngồi của phòng học\n",
    "\n",
    "## Dữ liệu đầu vào :\n",
    "File data: \"data.txt\"\n",
    "> Dòng 1: ghi N và M <br>\n",
    "> Dòng i+1 (i = 1,…, N): ghi t(i), g(i) và s(i)  \n",
    "> Dòng N+2: ghi c(1), c(2), …, c(M)"
   ]
  },
  {
   "cell_type": "markdown",
   "metadata": {},
   "source": [
    "## Đặt biến\n",
    "n Lớp: l từ 0,1,2...n-1\n",
    "- T[l] Số tiết - tuple\n",
    "-\tG[l] Giáo viên dạy lớp đó - tuple\n",
    "-\tS[l] số học sinh - tuple <br>\n",
    "\n",
    "Từ G tạo ra 1 list D_G có index là giáo viên-1, element là list các lớp giáo viên đó dạy.\n",
    "\n",
    "\n",
    "m Phòng: p từ 0,1,2,..m-1\n",
    "-\tC - số chỗ trong tất cả các phòng\n",
    "-\tT’ - Số tiết trong 10 buổi của tất cả các phòng\n",
    "\n",
    "\n",
    "Phòng số p có:\n",
    "- C[p] Số chỗ trong phòng\n",
    "- T[p][b] Số tiết còn lại trong buổi thứ b\n",
    "VD:\n",
    "2 phòng 1,2\n",
    "3 buổi 1,2,3\n",
    "C = [40,30]\n",
    "T = [[6,4,5],[3,2,5]]\n",
    "=> Phòng số 1 có 40 chỗ và còn trống 4 tiết vào buổi thứ 2\n",
    "\n",
    "\n",
    "### Input "
   ]
  },
  {
   "cell_type": "code",
   "execution_count": 54,
   "metadata": {},
   "outputs": [
    {
     "name": "stdout",
     "output_type": "stream",
     "text": [
      "[4, 4, 3, 4, 4, 2, 3, 4, 3, 3, 3, 3, 2, 3, 3]\n"
     ]
    }
   ],
   "source": [
    "from ortools.sat.python import cp_model\n",
    "from copy import deepcopy\n",
    "from random import randint\n",
    "\n",
    "def input(FileName):\n",
    "    f = open(FileName,'r')\n",
    "    global so_lop, so_phong, so_buoi, so_tiet, T,S,G,D_G,C\n",
    "    so_buoi, so_tiet= 10, 6\n",
    "    so_lop, so_phong =  (int(i) for i in f.readline().split())\n",
    "    T,S,G,D_G,C = [],[],[],[],[]\n",
    "    for c in range(so_lop):\n",
    "        tiet, gv, so_hs = (int(i) for i in f.readline().split())\n",
    "        T.append(tiet)\n",
    "        S.append(so_hs)\n",
    "        G.append(gv)\n",
    "        if len(D_G) < gv:\n",
    "            D_G.append([c])\n",
    "        else:\n",
    "            D_G[gv-1].append(c)\n",
    "    C = [int(i) for i in f.readline().split()]\n",
    "\n",
    "\n",
    "FileName= 'data.txt'\n",
    "input(FileName)\n",
    "all_gv = range(len(D_G))\n",
    "all_p = range(so_phong)\n",
    "all_b = range(so_buoi)\n",
    "all_t = range(so_tiet)\n",
    "all_l = range(so_lop)"
   ]
  },
  {
   "cell_type": "markdown",
   "metadata": {},
   "source": [
    "## Constraint 1\n",
    "Nếu lớp được xếp vào phòng, số học sinh phải nhỏ hơn số chỗ ngồi <br>\n",
    ">$\\forall l \\in \\text{ all_l}, \\forall p \\in \\text{ all_p}, \\forall b \\in \\text{all_b}, \\forall t \\in \\text{all_t}:$ <br>\n",
    ">$\\displaystyle \\text{If } S[l] > C[p]: lc(l,p,b,t) = 0 $\n"
   ]
  },
  {
   "cell_type": "markdown",
   "metadata": {},
   "source": [
    "## Constraint 2\n",
    "Trong cùng 1 thời gian:\n",
    " - 1 phòng chỉ chứa nhiều nhất 1 lớp <br>\n",
    "   >$\\displaystyle \\sum_{l \\in \\text{ all_l}} lc(l,p,b,t) \\le 1, \\forall p \\in \\text{ all_p}, \\forall b \\in \\text{all_b}, \\forall t \\in \\text{all_t}$\n",
    "\n",
    "- 1 giáo viên không được dạy 2 lớp khác nhau <br>\n",
    ">   $\\displaystyle \\sum_{l \\in \\text{ D_G[g]}} \\text{ }\\sum_{p \\in \\text{ all_p}} lc(l,p,b,t) \\le 1, \\forall g \\in \\text{all_gv},\\forall b \\in \\text{all_b}, \\forall t \\in \\text{all_t}$\n"
   ]
  },
  {
   "cell_type": "markdown",
   "metadata": {},
   "source": [
    "## Constraint 3\n",
    "Mỗi lớp:\n",
    "- Học đủ số tiết<br>\n",
    ">$\\displaystyle \\sum_{b \\in \\text{ all_b}} \\text{ }\\sum_{p \\in \\text{ all_p}} \\text{ }\\sum_{t \\in \\text{ all_t}} lc(l,p,b,t) = T[l], \\forall l \\in \\text{all_l}$\n",
    "-  Chỉ học trong 1 phòng, 1 buổi duy nhất và các tiết phải liền nhau trong buổi đó<br>\n",
    ">$\\forall l \\in \\text{ all_l}, \\forall p \\in \\text{ all_p}, \\forall b \\in \\text{all_b}:$ <br>\n",
    ">$\\displaystyle \\text{If} \\sum_{t \\in \\text{ all_t}} lc(l,p,b,t) \\neq 0: \\exists i \\in [0 \\text{ ; } 6-T[l]]: \\sum_{k=i} ^{i+T[l]-1} lc(l,p,b,k) = T[l] $"
   ]
  },
  {
   "cell_type": "markdown",
   "metadata": {},
   "source": [
    ">$\\displaystyle \\prod_{b \\in \\text{ all_b}} \\text{ } \\prod_{p \\in \\text{ all_p}} (T[l]-\\sum_{t \\in \\text{ all_t}} lc(l,p,b,t)) = 0 , \\forall l \\in \\text{all_l}$"
   ]
  },
  {
   "cell_type": "markdown",
   "metadata": {},
   "source": [
    "### Biến lựa chọn - dict\n",
    "(Lớp,phòng,buổi,tiết) = 0 hoặc 1 - (6 * 10 * n * m) biến\n",
    "\n",
    "\n",
    "Lớp 5 xếp vào phòng 1 trong buổi 2 tiết 1, Lớp 6 không xếp vào phòng 1 trong buổi 2 tiết 2 - { (5,1,2,1):1, (6,1,2,2):0 }"
   ]
  },
  {
   "cell_type": "code",
   "execution_count": 55,
   "metadata": {},
   "outputs": [],
   "source": [
    "def generate_decision_var(algo):\n",
    "    ''' Generate descision variable base on specify algorithm\n",
    "    algo: string - 'o': or-tools, 'b': backtracking, 'h': heuristic'''\n",
    "    global lc\n",
    "    lc = {}\n",
    "    for l in all_l:\n",
    "        for p in all_p:\n",
    "            for b in all_b:\n",
    "                for t in all_t:\n",
    "                    if algo == 'o':\n",
    "                        lc[(l, p, b, t)] = model.NewBoolVar('lc_l%ip%ib%it%i' %(l, p, b, t))\n",
    "                    else:\n",
    "                        lc[(l,p,b,t)]=0\n",
    "    if algo == 'h':\n",
    "        global Count, starting\n",
    "        Count = [0 for i in all_l] # dùng để chỉ những lớp chưa xếp và đã xếp được bao nhiêu tiết\n",
    "        starting = [] # kết quả (lớp học lúc nào ở đâu)\n",
    "    if algo == 'b':\n",
    "        global remain_periods\n",
    "        remain_periods = [[so_tiet for b in all_b] for p in all_p]"
   ]
  },
  {
   "cell_type": "code",
   "execution_count": 56,
   "metadata": {},
   "outputs": [],
   "source": [
    "def Backtracking(lc, rmp, rmc):\n",
    "    '''at first: rmc (remaining_classses) = so_lop\n",
    "                 rmp = remain_periods '''\n",
    "    if satisfied_c2(lc, range(rmc,so_lop)): #Constraint 2\n",
    "        if not rmc:\n",
    "            return lc\n",
    "        l = rmc - 1\n",
    "        for p in all_p:\n",
    "            for b in all_b:\n",
    "                if T[l] <= rmp[p][b] and S[l] <= C[p]: #Constraint 3 and 1\n",
    "                    lc_copy, rmp_copy = deepcopy(lc), deepcopy(rmp)\n",
    "                    start = so_tiet - rmp[p][b]\n",
    "                    for t in range(start, start + T[l]):\n",
    "                        lc_copy[(l,p,b,t)] = 1\n",
    "                    rmp_copy[p][b] -= T[l]\n",
    "                    next_state = Backtracking(lc_copy, rmp_copy, rmc - 1)\n",
    "                    if next_state: return next_state\n",
    "    return False\n",
    "\n",
    "def satisfied_c2(lc,all_l):\n",
    "    '''all_l: Classes which are arranged'''\n",
    "    for b in all_b:\n",
    "        for t in all_t:\n",
    "            for g in all_gv:\n",
    "                if sum(sum(lc[(l,p,b,t)] for p in all_p) for l in D_G[g]) > 1: #2b\n",
    "                    return False\n",
    "            for p in all_p:\n",
    "                if sum(lc[(l,p,b,t)] for l in all_l) > 1: #2a\n",
    "                    return False\n",
    "    return True\n"
   ]
  },
  {
   "cell_type": "code",
   "execution_count": 57,
   "metadata": {},
   "outputs": [
    {
     "name": "stdout",
     "output_type": "stream",
     "text": [
      "Buoi 0\n",
      "-Phong 0\n",
      "--Lop 4 hoc giao vien 3 tiet 0\n",
      "--Lop 4 hoc giao vien 3 tiet 1\n",
      "--Lop 4 hoc giao vien 3 tiet 2\n",
      "--Lop 4 hoc giao vien 3 tiet 3\n",
      "-Phong 1\n",
      "--Lop 13 hoc giao vien 1 tiet 3\n",
      "--Lop 13 hoc giao vien 1 tiet 4\n",
      "--Lop 13 hoc giao vien 1 tiet 5\n",
      "--Lop 14 hoc giao vien 1 tiet 0\n",
      "--Lop 14 hoc giao vien 1 tiet 1\n",
      "--Lop 14 hoc giao vien 1 tiet 2\n",
      "Buoi 1\n",
      "-Phong 0\n",
      "--Lop 3 hoc giao vien 3 tiet 0\n",
      "--Lop 3 hoc giao vien 3 tiet 1\n",
      "--Lop 3 hoc giao vien 3 tiet 2\n",
      "--Lop 3 hoc giao vien 3 tiet 3\n",
      "-Phong 1\n",
      "--Lop 11 hoc giao vien 1 tiet 2\n",
      "--Lop 11 hoc giao vien 1 tiet 3\n",
      "--Lop 11 hoc giao vien 1 tiet 4\n",
      "--Lop 12 hoc giao vien 2 tiet 0\n",
      "--Lop 12 hoc giao vien 2 tiet 1\n",
      "Buoi 2\n",
      "-Phong 0\n",
      "--Lop 1 hoc giao vien 3 tiet 0\n",
      "--Lop 1 hoc giao vien 3 tiet 1\n",
      "--Lop 1 hoc giao vien 3 tiet 2\n",
      "--Lop 1 hoc giao vien 3 tiet 3\n",
      "-Phong 1\n",
      "--Lop 9 hoc giao vien 1 tiet 3\n",
      "--Lop 9 hoc giao vien 1 tiet 4\n",
      "--Lop 9 hoc giao vien 1 tiet 5\n",
      "--Lop 10 hoc giao vien 3 tiet 0\n",
      "--Lop 10 hoc giao vien 3 tiet 1\n",
      "--Lop 10 hoc giao vien 3 tiet 2\n",
      "Buoi 3\n",
      "-Phong 0\n",
      "--Lop 2 hoc giao vien 3 tiet 0\n",
      "--Lop 2 hoc giao vien 3 tiet 1\n",
      "--Lop 2 hoc giao vien 3 tiet 2\n",
      "-Phong 1\n",
      "--Lop 6 hoc giao vien 1 tiet 3\n",
      "--Lop 6 hoc giao vien 1 tiet 4\n",
      "--Lop 6 hoc giao vien 1 tiet 5\n",
      "--Lop 8 hoc giao vien 2 tiet 0\n",
      "--Lop 8 hoc giao vien 2 tiet 1\n",
      "--Lop 8 hoc giao vien 2 tiet 2\n",
      "Buoi 4\n",
      "-Phong 0\n",
      "--Lop 0 hoc giao vien 1 tiet 0\n",
      "--Lop 0 hoc giao vien 1 tiet 1\n",
      "--Lop 0 hoc giao vien 1 tiet 2\n",
      "--Lop 0 hoc giao vien 1 tiet 3\n",
      "-Phong 1\n",
      "--Lop 5 hoc giao vien 2 tiet 4\n",
      "--Lop 5 hoc giao vien 2 tiet 5\n",
      "--Lop 7 hoc giao vien 3 tiet 0\n",
      "--Lop 7 hoc giao vien 3 tiet 1\n",
      "--Lop 7 hoc giao vien 3 tiet 2\n",
      "--Lop 7 hoc giao vien 3 tiet 3\n",
      "Buoi 5\n",
      "-Phong 0\n",
      "-Phong 1\n",
      "Buoi 6\n",
      "-Phong 0\n",
      "-Phong 1\n",
      "Buoi 7\n",
      "-Phong 0\n",
      "-Phong 1\n",
      "Buoi 8\n",
      "-Phong 0\n",
      "-Phong 1\n",
      "Buoi 9\n",
      "-Phong 0\n",
      "-Phong 1\n"
     ]
    }
   ],
   "source": [
    "def test_Backtracking():\n",
    "    generate_decision_var('b')\n",
    "    result = Backtracking(lc, remain_periods, so_lop)\n",
    "    if not result:\n",
    "        print(\"Can't\")\n",
    "    for b in all_b:\n",
    "        print('Buoi',b)\n",
    "        for p in all_p:\n",
    "            print('-Phong',p)\n",
    "            for l in all_l:\n",
    "                for t in all_t:\n",
    "                    if result[(l,p,b,t)] == 1:\n",
    "                        print('--Lop',l,'hoc giao vien',G[l],'tiet',t)\n",
    "test_Backtracking()"
   ]
  },
  {
   "cell_type": "code",
   "execution_count": null,
   "metadata": {},
   "outputs": [],
   "source": []
  }
 ],
 "metadata": {
  "kernelspec": {
   "display_name": "Python 3",
   "language": "python",
   "name": "python3"
  },
  "language_info": {
   "codemirror_mode": {
    "name": "ipython",
    "version": 3
   },
   "file_extension": ".py",
   "mimetype": "text/x-python",
   "name": "python",
   "nbconvert_exporter": "python",
   "pygments_lexer": "ipython3",
   "version": "3.8.5"
  }
 },
 "nbformat": 4,
 "nbformat_minor": 4
}
